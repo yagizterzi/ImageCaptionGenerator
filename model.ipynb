
  "cells": [
    {
      "cell_type": "markdown",
      "metadata": {
        "id": "dJgwWQAFWoWq"
      },
      "source": [
        "**Image caption generator using transformers**"
      ]
    },
    {
      "cell_type": "markdown",
      "metadata": {
        "id": "hzN3Jx6qXM7H"
      },
      "source": [
        "Before strarting download all the libaries necessary"
      ]
    },
    {
      "cell_type": "code",
      "execution_count": null,
      "metadata": {
        "id": "jShbEYtfJwDd"
      },
      "outputs": [],
      "outputs": [],
      "source": [
        "from transformers import BlipProcessor, BlipForConditionalGeneration\n",
        "import pandas as pd\n",
        "from PIL import Image\n",
        "from torch.utils.data import Dataset\n",
        "import os\n",
        "from torch.utils.data import DataLoader\n",
        "import torch\n",
        "from sentence_transformers import SentenceTransformer\n",
        "import pandas.api.types\n",
        "import numpy as np\n",
        "from scipy.linalg import sqrtm\n",
        "from typing import List\n",
        "import gc\n",
        "from tqdm.notebook import tqdm\n",
        "import matplotlib.pyplot as plt\n",
        "import torch.optim as optim\n"
      ]
    },
    {
      "cell_type": "markdown",
      "metadata": {
        "id": "NA5fmUi-XT_V"
      },
      "source": [
        "# 1-) Download the BLIP model\n",
        "BLIP is a VLP(Vision-Language Pre training) framework created by Salesforce research it designed for image captioning and visual question answering.It generates natural language descriptions from input images using a transformer-based architecture.\n",
        "\n",
        "**Processor** turns the image into a tensor using feature extractor and tokenizes the text\n",
        "\n",
        "**Model** captions the image with creating relation between tokenized text and image tensor using Transformer based architecture"
      ]
    },
    {
      "cell_type": "code",
      "execution_count": null,
      "metadata": {
        "colab": {
          "base_uri": "https://localhost:8080/",
          "height": 390,
          "referenced_widgets": [
            "a1e3c25a6bbe4af29818cdb56605a303",
            "000ee75586ba40bfbaf0d9130d38d67b",
            "9bde63f806a548b191512a03f9c467e1",
            "f4caf498879345ad86d34ad8150970f7",
            "862c8b22d9db40d1a6b87f6174c81534",
            "7e873a2a779b47d9860e0dde3208ae7c",
            "7079d4f53e1d48af995d1186a503fa59",
            "79f7a0d95a3e4600827271d7a06f9f53",
            "a74676a58d444c85b0452ddb27932c56",
            "580e7a50620e4361924187141d2acd36",
            "03ba4ae5c1b44140b38e8218d21b9e36",
            "6c758d803a1c464782551b0d5e88bcef",
            "09b8581899604b73acf52755ec8e79e4",
            "e3adab914fc04391a7048804ef60d03a",
            "50d50050c70f43698bc93a358f87336a",
            "ac359513bf884eafab852a5978a952ee",
            "78e686029df346a289cd0c0f274ce1f8",
            "c48ebf98ecb441ce9f980966f953fdcc",
            "e5d51c02e7e547fa88be8837fce39e28",
            "b0942938fa1f44e281194f53f53712dd",
            "1f3d1ab8716944789acea52bf9aae886",
            "da21c0369ac3438f991fd168e33e532b",
            "46ecef0ab83e4921acd11f6fe2ffedce",
            "bfd712dd617e4bd6bb253e65cb5d5884",
            "03449c8d0f4745e0ad593458d3255173",
            "cfb0c60d51944635b30cad033e20a405",
            "b9a37f2e5847418a9381a58da596b910",
            "7c37c8094b174312adb9aca91cbfc4b1",
            "71b14be7958b4ee3b94a332ac70d33ea",
            "a47e31ce3099498e9f0c7e5f73350eb0",
            "e3109cbe5a8d4fcf896e4443b7769bd4",
            "abb7e2ea27cf48ddb1faaad0a38060bd",
            "ae60ff27234145758c76a7b559efbe78",
            "4f298d5b0fe5497f9bc554ca73989f0f",
            "0cab8e4a5b0a447eb730e94b119bd987",
            "c97e7b5dee084959a6a2a1d1a85052af",
            "4c0fcdb95a7c4160b752386ab3a07869",
            "fcef393910074448a0646999e2a3d23f",
            "fa621b91e6d34fdaad0c34f7a948e31a",
            "3d92366667e24fe2aa1b4d7c52432aca",
            "dd40710622e748ebb4fcab2956aa15b4",
            "b48995c03d7a480d9ea3da9d9f97fda1",
            "50632c651f0a4e34baa8d75498150938",
            "93efc1c3cdc24dd5839c8ffbb192c90e",
            "6c9c09c553494cb2968bcb4ccc15d36d",
            "c622eeb159ce4d88a816faf2da6f089b",
            "2768d71128814afab3a3f6fe252d6eff",
            "1dab4ec1f6c9442fa6e78ebd1f362806",
            "7fb83c6540ce476d8a4541907e5894cf",
            "76686a11724b4581bf831f96d219098d",
            "82dfc1df0a1c4e0c99cb09f40b56575d",
            "703b6b2a08de49328661cc86f0a00156",
            "e277dab9d6c241e39d3c3ea6b40e0ef7",
            "0d8bcc4f8ff449caa538dba8f6cfa12a",
            "21ca63fe0ebc44e8a4fc2ffb94c7821a",
            "37cf785a922c486cacb9de026ad99b2c",
            "054b89e81f07414d9e453c76f43e1e76",
            "6e7c985a84814c8598f1d6b8a2d6a543",
            "ad15c9e1966d4837a8051605d8cb64ef",
            "433fae8734fa4dfc8a19a92a63fe8e2f",
            "40ff529542c1499295516ab5eed2ae80",
            "8452ab060d354bd4a9f82502d2e46ac9",
            "1c67cece40ff4847b08728e791e6f635",
            "97127d97c16e448d9bd29debaee6a7b8",
            "472776bc02a542a99dbf7ec24ff6699a",
            "1ec912af6bb24f6d950a7b6e4588bbc7",
            "8c0af747bd4745ee9e74edd2e8345532",
            "55da7479db0a4862849a91c0e934e0ea",
            "a61f05bd22e7494a9a0bd71864bb2a1d",
            "900f835e6807494ea475bfac4c1e0a0e",
            "1c415bc1a88b47989a3945b1582b5382",
            "d2534c619ebd490abc411a5f03b01bb8",
            "d51becb7896540e38a1549bfcf4ec90d",
            "8776ba6237b4462b8b55c00f0b840412",
            "1d43708c31c644ecadd1c9d43b8c705a",
            "9ec3014027544aac85b3b9d076dc5f98",
            "794fb017a8d64cc59bfbe8ed4ab3e6d0"
          ]
        },
        "id": "Lxd1-znLXxj6",
        "outputId": "65dfb880-5e09-4620-ae13-088b2c7ae1d0"
      },
      "outputs": [],
      "source": [
        "processor = BlipProcessor.from_pretrained(\"Salesforce/blip-image-captioning-base\")\n",
        "\n",
        "model = BlipForConditionalGeneration.from_pretrained(\"Salesforce/blip-image-captioning-base\")"
      ]
    },
    {
      "cell_type": "markdown",
      "metadata": {
        "id": "4YKW-ckgazZl"
      },
      "source": [
        "# 2-) Create a dataset class\n",
        "Dataset class is designed to load image data and corresponding captions for use in training or evaluating a model."
      ]
    },
    {
      "cell_type": "code",
      "execution_count": 6,
      "metadata": {
        "id": "mBRPMxTmatRe"
      },
      "outputs": [],
      "source": [
        "max_length = 128\n",
        "\n",
        "class Dataset(Dataset):\n",
        "    def __init__(self, csv_path, image_folder, processor, train=True):\n",
        "        self.data = pd.read_csv(csv_path)\n",
        "        self.image_folder = image_folder\n",
        "        self.processor = processor\n",
        "        self.train = train\n",
        "# Method that returns the total number of samples in the dataset\n",
        "    def __len__(self):\n",
        "        return len(self.data)\n",
        "# Method for getting a single from the dataset at a given index\n",
        "    def __getitem__(self, idx):\n",
        "        item = self.data.iloc[idx]\n",
        "        image_path = os.path.join(self.image_folder, str(item['image_id'])+'.jpg')\n",
        "        # Convert the image RGB format for input uniformity\n",
        "        image = Image.open(image_path).convert(\"RGB\")\n",
        "\n",
        "        if self.train:\n",
        "            caption = item['caption']\n",
        "            # Process the image and text using the processor\n",
        "            encoding = self.processor(images=image, text=caption, return_tensors=\"pt\", padding=\"max_length\", truncation=True,max_length=max_length)\n",
        "            encoding = {k: v.squeeze(0) for k, v in encoding.items()}\n",
        "            encoding['labels'] = encoding['input_ids']\n",
        "        else:\n",
        "          # If not in training mode, process only the image\n",
        "            encoding = self.processor(images=image, return_tensors=\"pt\", padding=\"max_length\", truncation=True,max_length=max_length)\n",
        "            encoding = {k: v.squeeze(0) for k, v in encoding.items()}\n",
        "\n",
        "        return encoding"
      ]
    },
    {
      "cell_type": "markdown",
      "metadata": {
        "id": "eQ6XJrltffs7"
      },
      "source": [
        "# 3-) Create a data loader\n",
        "Create data loader firstly using our dataset class then using the **DataLoader** from Pytorch\n",
        "\n",
        "Load seperate for testing and training so we can process both text and image or only image depending on our goal\n",
        "\n"
      ]
    },
    {
      "cell_type": "code",
      "execution_count": null,
      "metadata": {
        "id": "GnXd57Hkffj2"
      },
      "outputs": [],
      "source": [
        "train_dataset = Dataset(\"train.csv\", \"train\", processor, train=True)\n",
        "train_loader = DataLoader(train_dataset, batch_size=4,shuffle=True)\n",
        "\n",
        "test_dataset = Dataset(\"test.csv\", \"test\", processor, train=False)\n",
        "test_loader = DataLoader(test_dataset, batch_size=4, shuffle=False)\n"
      ]
    },
    {
      "cell_type": "markdown",
      "metadata": {
        "id": "Yme8RN5pmuqX"
      },
      "source": [
        "# 4-) Train the model\n",
        "During training, the model receives images and captions from the DataLoader.\n",
        "Images are converted to tensors using the processor and passed to the model.\n",
        "The predicted captions are compared to the ground truth to calculate the loss.\n",
        "Based on the loss, model weights are updated and the process repeats for each batch."
      ]
    },
    {
      "cell_type": "code",
      "execution_count": null,
      "metadata": {
        "colab": {
          "base_uri": "https://localhost:8080/",
          "height": 522,
          "referenced_widgets": [
            "d162a7dd693740f093ed044db5f16a28",
            "438c2807042a45939ed923654a638833",
            "20900dcd23114156bd242fe1d3a9a919",
            "a17f9af4622e4394b708fc6c56158376",
            "d600499d890f4fe980c53a44a863cf07",
            "3b926ccd51f540a0881953ac41747db1",
            "b67db5e5ed174089aa959c9c31a15f1e",
            "d80eb3db77924b5eb857fb575404ec49",
            "40f5b0c451ad4427923b587ecdb515fd",
            "312807d8e25a446598842c075f6fae08",
            "9cd3f0ebe19c4574b322f210437397f7",
            "38bf08ae16384da0957303f1d97512c8",
            "2f66eafd25af4dc8b61642aa0165d730",
            "2bc689518f394486ac6bdea48da5891e",
            "80fd2e2a07264b2b8f93ed0a94ca3384",
            "9ec89bf638f7494ca5426381a5361287",
            "5dff64886fd94efa91ba682b6a943e15",
            "0c35652cfd9940e7b87421542e2df01c",
            "166cab33aa774871a204205cc49331a1",
            "b3d24c73a1074a89af40b59abf91f27d",
            "58ca6520956348ec86525ebb21dd4c1b",
            "b2d8a7f266c84a7cb4b554a9814e3a45",
            "25779f37637a4187a988076cbd6fcda8",
            "2527d2b884df49c4b5f1d7f1c37eb966",
            "18a6cafde06a48caad3580db5deae9c9",
            "0da67a91033a4119b115e18f69f9a9bf",
            "9402ec65c679403e9a6759275aea4630",
            "33ecf084a98941efa24854f56b4a7ac3",
            "a957da1352fc46b5acbc95cb1f26313f",
            "cea820868bd443b395df32acecf2bf35",
            "ce425d3e2bc14c9a8245455714fdbfdb",
            "ae41044450fc4390892865973dac416b",
            "30a5a91cfc1949ebb5efda3a34c44d61",
            "e305e91a679d4f5db57a9c8d0fd5193d",
            "6804e437774646e3a7caba995ec254ad",
            "943aa0771dd2488a89a059f9a02d335f",
            "ece7a5ef3788495bacc8c8322acd1604",
            "7e5b3a20e3e642a589c40d4df0ff2313",
            "2058a9d523a546ff96738f22b65a93fa",
            "ad9e81da64e7406b8f45a3ba4c1dc7b2",
            "bfa1395776ca4100afce743f33ac4928",
            "3b8573fd60a44e5381efa9ba10477683",
            "a4d4f003b60b4484980b89db90b72811",
            "4165659b86974b2dbf6af71e19568b83",
            "c0b7f6d612b54248b67219dea4418948",
            "fb608601929146f98109d0542083871a",
            "dade937fd68f4c109fb9ad51c4535fac",
            "c5905e7e3317463db9ba84fd72f77723",
            "4d49fbf459724c118cd85a63c4faa965",
            "d8dfaa450cce41cb89ab689c89626117",
            "a41e01bcfd614757a1e4f64e868aa583",
            "8cf100036ea541ff9f16d8b88e258294",
            "b39dace189e84597afd809a0ad84ec35",
            "e73170f915f142c6aa23a67e9499bf6f",
            "5bb5ac85f85041fc8a41e6c913843045",
            "8cabc563e8b945d1aee2817b95e5d463",
            "2e8ed12b0d2047cbb62ce9d77afb5bc2",
            "6ca1e8ff11994e0398b29465ea8b82bd",
            "64005919321743839bdefded123dcc37",
            "c40515a765cb46d2890502f92bd722f0",
            "9bb6a72a3e1e4704b3b7c5dfff51224b",
            "f2eeff117dc4482d9129ccde3e01d6fc",
            "c41c567bc2234d45aaaa468fb0eb7aab",
            "e32dbbf483844963aae1b6eb6d98acc9",
            "692e073029c9469a8d2510337cb2cfce",
            "3d050260af8a4872bf4bfd997d670ad8",
            "f2b07408c40741eb84a89c724ae7032d",
            "c5494927c15d4f7da80c39bb2275bc8c",
            "275d8e4dde6d4736a9c85b5e8dbf36d7",
            "554c0b539d814c9da55f8dcefcb634d0",
            "e436a750d98c43c6a6371f5e4241cef1",
            "d78dc8546e8f4595883cdcaa91ccb930",
            "9788482ec0a04d81ad944950df665957",
            "2693f5bde55c4ed3a00a2e2ecc212e6f",
            "d7ba918bf07f401594a24994c7e33fdc",
            "d3b2fd61ce39499e9d815b26d3a6091b",
            "1351c85c9ae24fca8278e3628d579c4a",
            "3311f6656bba4c6788468e0a46519d1a",
            "eecfec595f9047379141b55c9741d864",
            "7afb7567983c454b9f2fc566bc26c6b2",
            "150ee210c7e34441a3a8ed6f0fd2bb43",
            "e3ddfc6f759c4f78915e3874b17a28c9",
            "cef3ae8f60a547bd84773dd6bd4bae10",
            "e4de8bff5f234e329a3387dccafd3bf7",
            "f42882968af8490faf1d6052aa0208fb",
            "e9f19205870c4bce94f7c718685d3339",
            "34cd8aaf1932495c844dbce26f5f9124",
            "5510efc1fb28423e8d923355be2f78a7",
            "31ff1c92eea34d3f8796b3ddf55435aa",
            "d0571ef8c0d84efca04528b6beeba0b7",
            "866a62da8ab4485d9046626a9ccf29fa",
            "d49785cd9f864aa1afec3ac55e056df3",
            "59c351981fae4f3f8f6e0a2bec8c1e57",
            "6e118b742481426b83bae6f03a7eeca2",
            "c6bd89e984b44667897621d792e09ca3",
            "b0e49312cc7143aaa163f457a48f63b5",
            "9143ee39ee8340cfad4c77915c86ca7b",
            "6b94fb42baa24819a0d84661a80cea6f",
            "4f45554cc49f4a108d64173225d3cbf0",
            "4ffe4c2c892b4aba89c1eba5acda159d",
            "82b57912a6394e56b058dd13e0fe6d3c",
            "e4dd58efd78d415f968fcba11e3b64fd",
            "dc7af3a81703407699d8f2e3bbbf8951",
            "5e9f1f59572b401fb0e2b014f18d630d",
            "02bb1cf5292545949176baa3627c062b",
            "d6bf9c8b338e4c7f9568d31e835ae5df",
            "c252fad4bee34d519b839ee4f16b685a",
            "8f74ebcdb76c49f2949ed97a5c7a80f6",
            "7cc24ff1daed41979cb7c16778a6e218",
            "f0070774f67c4a2ba919b1dd46407d80"
          ]
        },
        "id": "Yq_HQ12Knz62",
        "outputId": "806bf328-f052-4988-b8dc-231aaf99aa3e"
      },
      "outputs": [],
      "source": [
        "device = torch.device(\"cuda\" if torch.cuda.is_available() else \"cpu\")\n",
        "gc.collect()\n",
        "torch.cuda.empty_cache()\n",
        "torch.cuda.reset_peak_memory_stats()\n",
        "\n",
        "model.to(device)\n",
        "\n",
        "\n",
        "optimizer = torch.optim.AdamW(model.parameters(), lr=5e-5)\n",
        "epochs = 10\n",
        "model.train()\n",
        "\n",
        "for epoch in range(epochs):\n",
        "    total_loss = 0\n",
        "    epoch_losses = []\n",
        "\n",
        "    # For GPU Optimization\n",
        "    gc.collect()\n",
        "    torch.cuda.empty_cache()\n",
        "\n",
        "    for batch in tqdm(train_loader, desc=f\"Epoch {epoch+1}\"):\n",
        "        # Move batch to device safely\n",
        "        batch = {k: v.to(device) for k, v in batch.items()}\n",
        "\n",
        "        # Forward + Backward\n",
        "        outputs = model(**batch)\n",
        "        loss = outputs.loss\n",
        "\n",
        "        loss.backward()\n",
        "        optimizer.step()\n",
        "        optimizer.zero_grad()\n",
        "\n",
        "        # Accumulate loss\n",
        "        total_loss += loss.item()\n",
        "\n",
        "    # Calculate metrics\n",
        "    avg_loss = total_loss / len(train_loader)\n",
        "    epoch_losses.append(avg_loss)\n",
        "\n",
        "    print(f\"Epoch {epoch+1} - Loss: {avg_loss:.4f}\")\n",
        "\n",
        "torch.save(model.state_dict(), f\"blip_epoch{epochs}.pth\")"
      ]
    },
    {
      "cell_type": "markdown",
      "metadata": {
        "id": "qhzg4iLjKwdp"
      },
      "source": [
        "#  5-) Create a Loss chart for trained model"
      ]
    },
    {
      "cell_type": "code",
      "execution_count": 12,
      "metadata": {
        "colab": {
          "base_uri": "https://localhost:8080/",
          "height": 407
        },
        "id": "jxtFOobcHMlm",
        "outputId": "293bbc50-ba94-4558-c142-1e10c5a85023"
      },
      "outputs": [
        {
          "data": {
            "image/png": "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",
            "text/plain": [
              "<Figure size 800x500 with 1 Axes>"
            ]
          },
          "metadata": {},
          "output_type": "display_data"
        }
      ],
      "source": [
        "\n",
        "# Data\n",
        "epochs = list(range(1, 11))\n",
        "loss = [0.8526, 0.2746, 0.2040, 0.1496, 0.1063, 0.0729, 0.0502, 0.0355, 0.0269, 0.0225]\n",
        "\n",
        "# Plotting\n",
        "plt.figure(figsize=(8, 5))\n",
        "plt.plot(epochs, loss, marker='o', linestyle='-', color='blue')\n",
        "plt.title('Training Loss Over Epochs')\n",
        "plt.xlabel('Epoch')\n",
        "plt.ylabel('Loss')\n",
        "plt.grid(True)\n",
        "plt.xticks(epochs)\n",
        "plt.tight_layout()\n",
        "plt.show()"
      ]
    },
    {
      "cell_type": "markdown",
      "metadata": {
        "id": "ZaSKxNK6Ndp1"
      },
      "source": [
        "# 6-) Fine Tuning Process\n",
        "For fine tuning first we upload the trained model and train its decoder after that we train the backbone layers of visual encoder with a small learning rate "
      ]
    },
    {
      "cell_type": "code",
      "execution_count": 22,
      "metadata": {
        "colab": {
          "base_uri": "https://localhost:8080/"
        },
        "id": "ROCsvtoXMZ1n",
        "outputId": "f5e0e8ec-3755-407e-e7dc-67a9c0972c2a"
      },
      "outputs": [
        {
          "name": "stdout",
          "output_type": "stream",
          "text": [
            "Decoder Epoch 1/2, Loss: 0.0090\n",
            "Decoder Epoch 2/2, Loss: 0.0080\n",
            "Backbone+Decoder Epoch 1/3, Loss: 0.0048\n",
            "Backbone+Decoder Epoch 2/3, Loss: 0.0045\n",
            "Backbone+Decoder Epoch 3/3, Loss: 0.0042\n"
          ]
        }
      ],
      "source": [
        "state_dict = torch.load(\"blip_epoch10.pth\")\n",
        "model.load_state_dict(state_dict)\n",
        "gc.collect()\n",
        "torch.cuda.empty_cache()\n",
        "torch.cuda.reset_peak_memory_stats()\n",
        "\n",
        "# Stage 1: Fine-tune the text decoder\n",
        "for name, param in model.named_parameters():\n",
        "    if \"text_decoder\" in name:\n",
        "        param.requires_grad = True\n",
        "    else:\n",
        "        param.requires_grad = False\n",
        "\n",
        "optimizer = optim.AdamW(filter(lambda p: p.requires_grad, model.parameters()), lr=5e-6)\n",
        "\n",
        "num_epochs = 2\n",
        "model.train()\n",
        "for epoch in range(num_epochs):\n",
        "    for batch in train_loader:\n",
        "        optimizer.zero_grad()\n",
        "        inputs = batch['input_ids'].to(device)\n",
        "        images = batch['pixel_values'].to(device)\n",
        "        labels = batch['labels'].to(device)\n",
        "\n",
        "        outputs = model(pixel_values=images, input_ids=inputs, labels=labels)\n",
        "        loss = outputs.loss\n",
        "        loss.backward()\n",
        "        optimizer.step()\n",
        "\n",
        "    print(f\"Decoder Epoch {epoch+1}/{num_epochs}, Loss: {loss.item():.4f}\")\n",
        "\n",
        "# Stage 2: Fine-tune the last layers of the visual backbone (layer11, layer12)\n",
        "for name, param in model.named_parameters():\n",
        "    if \"vision_model.encoder.layers.10\" in name or \"vision_model.encoder.layers.11\" in name:\n",
        "        param.requires_grad = True\n",
        "    else:\n",
        "        param.requires_grad = False\n",
        "\n",
        "learnable_params = list(filter(lambda p: p.requires_grad, model.parameters()))\n",
        "optimizer = torch.optim.AdamW(learnable_params,lr=1e-6)\n",
        "\n",
        "num_epochs_backbone = 3\n",
        "for epoch in range(num_epochs_backbone):\n",
        "    model.train()\n",
        "    for batch in train_loader:\n",
        "        optimizer.zero_grad()\n",
        "        images = batch['pixel_values'].to(device)\n",
        "        captions_input_ids = batch['input_ids'].to(device)\n",
        "        labels = batch['labels'].to(device)\n",
        "\n",
        "\n",
        "        outputs = model(pixel_values=images, input_ids=captions_input_ids, labels=labels)\n",
        "        loss = outputs.loss\n",
        "        loss.backward()\n",
        "        optimizer.step()\n",
        "\n",
        "    print(f\"Backbone Epoch {epoch+1}/{num_epochs_backbone}, Loss: {loss.item():.4f}\")\n",
        "\n",
        "# Save the fully fine-tuned model\n",
        "torch.save(model.state_dict(), \"blip_finetuned.pth\")"
      ]
    },
    {
      "cell_type": "markdown",
      "metadata": {},
      "source": [
        "# 7-) Train the Fine Tuned Model\n",
        "We train the fine tuned model with small learning rate and fewer epochs for applying our fine tuning "
      ]
    },
    {
      "cell_type": "code",
      "execution_count": null,
      "metadata": {
        "colab": {
          "base_uri": "https://localhost:8080/",
          "height": 269,
          "referenced_widgets": [
            "3de080659e48410da3e11df5c6acc3b6",
            "fb5a45ddff904330b8968ef91349055c",
            "84350b28126d4c87b2c7b4f564e152a8",
            "23c36993644e40fb81d0aa66fda742c1",
            "262832bfbf8e444bac2a67772e560284",
            "484faeff011e433ab163fcda038bccf7",
            "040ae1697240435ba894e5f3a36b15e3",
            "6e3aea4b9fd74a718681a1c60489d03b",
            "2506b4e38ad64b3997ac00d4fdf2b5cd",
            "87055e4bd8074067ad08d0c5f5efd13f",
            "b7dffbbd5348450580d27578c77ef3b3",
            "6902cd642c25447cab031b18bbd507f8",
            "cf2e242dec2d41e2a962618d46450a29",
            "d851127b0c9a402ea416918290ce2c6b",
            "c0d20179f9144c63b147fc8b3eaa67b5",
            "a2442f7c87ee4cd98fd0aaa8797f23ee",
            "f61fec69fb1e4f72ab5c25ee8459814c",
            "df2b8e99449a4d6f99583df0dc28cb80",
            "3455d5ea5fd74fc3aeb00a708fecf0ad",
            "55b5b1664f6048fe814ab42ab9f501bd",
            "c57146c8481b4639ad46855a8b4d234d",
            "8ab1f6aae52c4da4a40d22cdc689d0ac",
            "14d12c8fdb9a44ae8046f09b6773370b",
            "da546461d0e846dea03d02062003d265",
            "e4e6978d91524132b57ef92566890246",
            "3ea3306c080846d08c7bdbf444e0bae0",
            "e03526c9d5db4ecbb1726c7a4d6a66dd",
            "a258c4cb36ed4bc9878cbfd99ac6b5d6",
            "09647b1190634e58b059d4a4b21a933b",
            "e0863f51a54947f4b59c2eb06d2653ce",
            "8757c42db60e4d5a98a25c37460de34b",
            "3dc515a965df464eb4dd6e08f0442256",
            "6c1c2bc6076c40eb8d52183e5ee9d828",
            "57b84af723ca489b94776b754055cffe",
            "a3f821665d9a42c986576e8e7bf013f0",
            "04fafc18463c4ad9a7de470b6ba257be",
            "a89df183076e4b15aa19efecfebaf67a",
            "b46fac5473a94c3585da821569ca2c24",
            "9cbd912eab1a46709207ca14fdeb29ff",
            "0b1f0fb5db1c490099436509b1ec8c99",
            "b4742120ea1d41e7bab557fff3f69357",
            "783f11ac18274e7ab636690426332c34",
            "558d85ec702e440c98ff21b3a29c9aea",
            "36c987d4888c40539720d80b272f63c5",
            "043ac2322d3a47b9bf03ffaf5d96abaa",
            "7d05e239e2834a87a9eaf4c2de65e749",
            "c1e6fb2a5edb412ea57a3d548bf99629",
            "68c9d1676d994b00a1ae05040471eed9",
            "13674d37b23d48e9abfb42cb14613811",
            "78b5078293af43b1b991bed56b766441",
            "11e13797a7bd40a0a0ccb7cf3b312270",
            "be7f849221ff447fbdfd02e7c84de218",
            "9617ab1e60f5441bab8921c0396a54e3",
            "1e3f09d0d10d455bbb70b1dfbbcd1bfe",
            "9a9c216ecfc444cfbdac5f2c0052b2a7"
          ]
        },
        "id": "cl2reiqtCYQ-",
        "outputId": "ccd37b43-bd15-44d4-8d78-d9a28c6fbf86"
      },
      "outputs": [],
      "source": [
        "model.load_state_dict(torch.load(\"blip_finetuned.pth\"))\n",
        "# Free up memory\n",
        "gc.collect()\n",
        "torch.cuda.empty_cache()\n",
        "torch.cuda.reset_peak_memory_stats()\n",
        "\n",
        "# Move model to device and enable all parameters for training\n",
        "model.to(device)\n",
        "for param in model.parameters():\n",
        "    param.requires_grad = True\n",
        "\n",
        "# Define optimizer for all parameters\n",
        "optimizer = torch.optim.AdamW(model.parameters(), lr=1e-6)\n",
        "\n",
        "# Final full model training\n",
        "final_epochs = 5\n",
        "model.train()\n",
        "\n",
        "for epoch in range(final_epochs):\n",
        "    total_loss = 0.0\n",
        "    each_loss = []\n",
        "\n",
        "    gc.collect()\n",
        "    torch.cuda.empty_cache()\n",
        "\n",
        "    for batch in tqdm(train_loader, desc=f\"Final Training Epoch {epoch+1}/{final_epochs}\"):\n",
        "        # Move inputs to device\n",
        "        inputs = batch['input_ids'].to(device)\n",
        "        images = batch['pixel_values'].to(device)\n",
        "        labels = batch['labels'].to(device)\n",
        "\n",
        "        # Forward and backward pass\n",
        "        optimizer.zero_grad()\n",
        "        outputs = model(pixel_values=images, input_ids=inputs, labels=labels)\n",
        "        loss = outputs.loss\n",
        "        loss.backward()\n",
        "        optimizer.step()\n",
        "\n",
        "        total_loss += loss.item()\n",
        "\n",
        "    avg_loss = total_loss / len(train_loader)\n",
        "    each_loss.append(avg_loss)\n",
        "    print(f\"Final Training Epoch {epoch+1}/{final_epochs}, Loss: {avg_loss:.4f}\")\n",
        "# Save final model after all fine-tuning steps\n",
        "torch.save(model.state_dict(), \"blip_final.pth\")"
      ]
    },
    {
      "cell_type": "markdown",
      "metadata": {},
      "source": [
        "# 8-) Create a loss chart for comparission to the trained model "
      ]
    },
    {
      "cell_type": "code",
      "execution_count": 25,
      "metadata": {
        "colab": {
          "base_uri": "https://localhost:8080/",
          "height": 407
        },
        "id": "jjwEa52RFPuN",
        "outputId": "f0edeede-ae87-4603-977e-babb8401dc51"
      },
      "outputs": [
        {
          "data": {
            "image/png": "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",
            "text/plain": [
              "<Figure size 800x500 with 1 Axes>"
            ]
          },
          "metadata": {},
          "output_type": "display_data"
        }
      ],
      "source": [
        "# Data\n",
        "epochs = list(range(1, 6))\n",
        "loss = [0.0035,0.0027,0.0022,0.0019,0.0017]\n",
        "\n",
        "# Plotting\n",
        "plt.figure(figsize=(8, 5))\n",
        "plt.plot(epochs, loss, marker='o', linestyle='-', color='blue')\n",
        "plt.title('Final Training Loss Over Epochs')\n",
        "plt.xlabel('Epoch')\n",
        "plt.ylabel('Loss')\n",
        "plt.grid(True)\n",
        "plt.xticks(epochs)\n",
        "plt.tight_layout()\n",
        "plt.show()"
      ]
    },
    {
      "cell_type": "markdown",
      "metadata": {},
      "source": [
        "# 9-) Test the model and save the results"
      ]
    },
    {
      "cell_type": "code",
      "execution_count": null,
      "metadata": {
        "id": "FwLxSIg-wK2G"
      },
      "outputs": [],
      "source": [
        "# Generate captions and create an empty list to store those captions\n",
        "\n",
        "# Load the trained model state dictionary\n",
        "model.load_state_dict(torch.load(\"blip_final.pth\"))\n",
        "\n",
        "model.eval()\n",
        "predicted_captions = []\n",
        "\n",
        "\n",
        "# Disable gradient calculation to save memory\n",
        "with torch.no_grad():\n",
        "  # Loop over the test data\n",
        "    for batch in test_loader:\n",
        "      # Extract pixel values and generate captions after that decode the text into normal\n",
        "        pixel_values = batch[\"pixel_values\"].to(device)\n",
        "        output_ids = model.generate(pixel_values=pixel_values, max_length=128)\n",
        "        captions = processor.batch_decode(output_ids, skip_special_tokens=True)\n",
        "        predicted_captions.extend(captions)\n",
        "\n",
        "# Save the captions into a .csv file\n",
        "test_df = pd.read_csv(\"test.csv\")\n",
        "test_df[\"caption\"] = predicted_captions\n",
        "test_df.to_csv(\"results.csv\", index=False)\n"
      ]
    }
  ],
  "metadata": {
    "accelerator": "GPU",
    "colab": {
      "gpuType": "A100",
      "machine_shape": "hm",
      "provenance": []
    },
    "kernelspec": {
      "display_name": "Python 3",
      "name": "python3"
    },
    "language_info": {
      "codemirror_mode": {
        "name": "ipython",
        "version": 3
      },
      "file_extension": ".py",
      "mimetype": "text/x-python",
      "name": "python",
      "nbconvert_exporter": "python",
      "pygments_lexer": "ipython3",
      "version": "3.11.9"
  },
  "nbformat": 4,
  "nbformat_minor": 0
}
